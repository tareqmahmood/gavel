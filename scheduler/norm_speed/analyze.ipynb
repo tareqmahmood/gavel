{
 "cells": [
  {
   "cell_type": "code",
   "execution_count": 1,
   "metadata": {},
   "outputs": [],
   "source": [
    "import pandas as pd"
   ]
  },
  {
   "cell_type": "code",
   "execution_count": 3,
   "metadata": {},
   "outputs": [],
   "source": [
    "norm = pd.read_csv('norm_speed.csv')"
   ]
  },
  {
   "cell_type": "code",
   "execution_count": 5,
   "metadata": {},
   "outputs": [
    {
     "data": {
      "text/plain": [
       "<pandas.core.groupby.generic.DataFrameGroupBy object at 0x74c590de7ee0>"
      ]
     },
     "execution_count": 5,
     "metadata": {},
     "output_type": "execute_result"
    }
   ],
   "source": [
    "norm.groupby(['model1', 'batch_size1'])"
   ]
  },
  {
   "cell_type": "code",
   "execution_count": 16,
   "metadata": {},
   "outputs": [
    {
     "data": {
      "text/plain": [
       "{('Bert-Base', '256/16'),\n",
       " ('Bert-Base', '256/32'),\n",
       " ('Bert-Large', '256/16'),\n",
       " ('Bert-Large', '256/64'),\n",
       " ('DCGAN', '128'),\n",
       " ('DCGAN', 128),\n",
       " ('Empty', 0),\n",
       " ('GPT2', '256/16'),\n",
       " ('GPT2', '256/8'),\n",
       " ('GPT2', '512/16'),\n",
       " ('GPT2', '512/8'),\n",
       " ('GPT2-Medium', '256/32'),\n",
       " ('GPT2-Medium', '256/8'),\n",
       " ('GPT2-Medium', '512/32'),\n",
       " ('GPT2-Medium', '512/8'),\n",
       " ('GPT2-XL', '256/2'),\n",
       " ('GPT2-XL', '256/4'),\n",
       " ('GPT2-XL', '512/2'),\n",
       " ('GPT2-XL', '512/4'),\n",
       " ('PointNet', '32'),\n",
       " ('PointNet', 32),\n",
       " ('resnet50', '32'),\n",
       " ('resnet50', 32),\n",
       " ('vgg19', '32'),\n",
       " ('vgg19', 32)}"
      ]
     },
     "execution_count": 16,
     "metadata": {},
     "output_type": "execute_result"
    }
   ],
   "source": [
    "{tuple(x) for x in norm[['model1', 'batch_size1']].to_records(index=False)} | {tuple(x) for x in norm[['model2', 'batch_size2']].to_records(index=False)}"
   ]
  },
  {
   "cell_type": "code",
   "execution_count": null,
   "metadata": {},
   "outputs": [],
   "source": []
  }
 ],
 "metadata": {
  "kernelspec": {
   "display_name": "gavel",
   "language": "python",
   "name": "python3"
  },
  "language_info": {
   "codemirror_mode": {
    "name": "ipython",
    "version": 3
   },
   "file_extension": ".py",
   "mimetype": "text/x-python",
   "name": "python",
   "nbconvert_exporter": "python",
   "pygments_lexer": "ipython3",
   "version": "3.8.18"
  }
 },
 "nbformat": 4,
 "nbformat_minor": 2
}
